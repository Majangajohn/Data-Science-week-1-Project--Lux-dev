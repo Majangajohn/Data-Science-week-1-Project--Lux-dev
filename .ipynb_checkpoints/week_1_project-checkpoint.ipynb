{
 "cells": [
  {
   "cell_type": "code",
   "execution_count": 15,
   "id": "636ae23a-a970-4791-99d9-7d4d27353b3a",
   "metadata": {},
   "outputs": [],
   "source": [
    "import pandas as pd\n",
    "import numpy as np\n",
    "from sklearn.model_selection import train_test_split\n",
    "from sklearn.ensemble import RandomForestClassifier\n",
    "from sklearn.metrics import accuracy_score, precision_score, recall_score, f1_score, roc_auc_score\n"
   ]
  },
  {
   "cell_type": "code",
   "execution_count": 16,
   "id": "435dc331-cb87-445f-ba75-ec309b2792db",
   "metadata": {},
   "outputs": [],
   "source": [
    "# Load the historical churn data (assuming you have a CSV file)\n",
    "data = pd.read_csv('Customer_data.csv')"
   ]
  },
  {
   "cell_type": "code",
   "execution_count": 17,
   "id": "9e5e4427-0978-4019-b3ef-8f389f667f76",
   "metadata": {},
   "outputs": [
    {
     "data": {
      "text/html": [
       "<div>\n",
       "<style scoped>\n",
       "    .dataframe tbody tr th:only-of-type {\n",
       "        vertical-align: middle;\n",
       "    }\n",
       "\n",
       "    .dataframe tbody tr th {\n",
       "        vertical-align: top;\n",
       "    }\n",
       "\n",
       "    .dataframe thead th {\n",
       "        text-align: right;\n",
       "    }\n",
       "</style>\n",
       "<table border=\"1\" class=\"dataframe\">\n",
       "  <thead>\n",
       "    <tr style=\"text-align: right;\">\n",
       "      <th></th>\n",
       "      <th>customer_id</th>\n",
       "      <th>first_name</th>\n",
       "      <th>last_name</th>\n",
       "      <th>age</th>\n",
       "      <th>email</th>\n",
       "      <th>country</th>\n",
       "      <th>postal_code</th>\n",
       "      <th>purchase_history</th>\n",
       "      <th>monthly_payment</th>\n",
       "      <th>contract_length</th>\n",
       "      <th>data_usage</th>\n",
       "      <th>customer_service_rating</th>\n",
       "      <th>Churn</th>\n",
       "    </tr>\n",
       "  </thead>\n",
       "  <tbody>\n",
       "    <tr>\n",
       "      <th>0</th>\n",
       "      <td>1</td>\n",
       "      <td>Flem</td>\n",
       "      <td>Boultwood</td>\n",
       "      <td>65</td>\n",
       "      <td>fboultwood0@imgur.com</td>\n",
       "      <td>Brazil</td>\n",
       "      <td>76420-000</td>\n",
       "      <td>iPhone</td>\n",
       "      <td>497.51</td>\n",
       "      <td>24</td>\n",
       "      <td>85.12</td>\n",
       "      <td>2</td>\n",
       "      <td>True</td>\n",
       "    </tr>\n",
       "    <tr>\n",
       "      <th>1</th>\n",
       "      <td>2</td>\n",
       "      <td>Ciel</td>\n",
       "      <td>Hearse</td>\n",
       "      <td>44</td>\n",
       "      <td>chearse1@xinhuanet.com</td>\n",
       "      <td>France</td>\n",
       "      <td>38509 CEDEX</td>\n",
       "      <td>Google Pixel</td>\n",
       "      <td>332.10</td>\n",
       "      <td>1</td>\n",
       "      <td>15.92</td>\n",
       "      <td>2</td>\n",
       "      <td>True</td>\n",
       "    </tr>\n",
       "    <tr>\n",
       "      <th>2</th>\n",
       "      <td>3</td>\n",
       "      <td>Loren</td>\n",
       "      <td>Astley</td>\n",
       "      <td>53</td>\n",
       "      <td>lastley2@lycos.com</td>\n",
       "      <td>Peru</td>\n",
       "      <td>NaN</td>\n",
       "      <td>Google Pixel</td>\n",
       "      <td>390.71</td>\n",
       "      <td>16</td>\n",
       "      <td>14.68</td>\n",
       "      <td>5</td>\n",
       "      <td>False</td>\n",
       "    </tr>\n",
       "    <tr>\n",
       "      <th>3</th>\n",
       "      <td>4</td>\n",
       "      <td>Larine</td>\n",
       "      <td>Ferfulle</td>\n",
       "      <td>19</td>\n",
       "      <td>lferfulle3@wp.com</td>\n",
       "      <td>Indonesia</td>\n",
       "      <td>NaN</td>\n",
       "      <td>Google Pixel</td>\n",
       "      <td>541.86</td>\n",
       "      <td>21</td>\n",
       "      <td>50.64</td>\n",
       "      <td>5</td>\n",
       "      <td>False</td>\n",
       "    </tr>\n",
       "    <tr>\n",
       "      <th>4</th>\n",
       "      <td>5</td>\n",
       "      <td>Chrissy</td>\n",
       "      <td>Jerrans</td>\n",
       "      <td>34</td>\n",
       "      <td>cjerrans4@wikia.com</td>\n",
       "      <td>China</td>\n",
       "      <td>NaN</td>\n",
       "      <td>iPhone</td>\n",
       "      <td>652.51</td>\n",
       "      <td>12</td>\n",
       "      <td>76.28</td>\n",
       "      <td>5</td>\n",
       "      <td>False</td>\n",
       "    </tr>\n",
       "  </tbody>\n",
       "</table>\n",
       "</div>"
      ],
      "text/plain": [
       "   customer_id first_name  last_name  age                   email    country  \\\n",
       "0            1       Flem  Boultwood   65   fboultwood0@imgur.com     Brazil   \n",
       "1            2       Ciel     Hearse   44  chearse1@xinhuanet.com     France   \n",
       "2            3      Loren     Astley   53      lastley2@lycos.com       Peru   \n",
       "3            4     Larine   Ferfulle   19       lferfulle3@wp.com  Indonesia   \n",
       "4            5    Chrissy    Jerrans   34     cjerrans4@wikia.com      China   \n",
       "\n",
       "   postal_code purchase_history  monthly_payment  contract_length  data_usage  \\\n",
       "0    76420-000           iPhone           497.51               24       85.12   \n",
       "1  38509 CEDEX     Google Pixel           332.10                1       15.92   \n",
       "2          NaN     Google Pixel           390.71               16       14.68   \n",
       "3          NaN     Google Pixel           541.86               21       50.64   \n",
       "4          NaN           iPhone           652.51               12       76.28   \n",
       "\n",
       "   customer_service_rating  Churn  \n",
       "0                        2   True  \n",
       "1                        2   True  \n",
       "2                        5  False  \n",
       "3                        5  False  \n",
       "4                        5  False  "
      ]
     },
     "execution_count": 17,
     "metadata": {},
     "output_type": "execute_result"
    }
   ],
   "source": [
    "data.head()"
   ]
  },
  {
   "cell_type": "code",
   "execution_count": 18,
   "id": "ad3eb218-e1a4-4002-a8a7-019bcd490c07",
   "metadata": {},
   "outputs": [
    {
     "name": "stdout",
     "output_type": "stream",
     "text": [
      "<class 'pandas.core.frame.DataFrame'>\n",
      "Index: 468 entries, 0 to 999\n",
      "Data columns (total 13 columns):\n",
      " #   Column                   Non-Null Count  Dtype  \n",
      "---  ------                   --------------  -----  \n",
      " 0   customer_id              468 non-null    int64  \n",
      " 1   first_name               468 non-null    object \n",
      " 2   last_name                468 non-null    object \n",
      " 3   age                      468 non-null    int64  \n",
      " 4   email                    468 non-null    object \n",
      " 5   country                  468 non-null    object \n",
      " 6   postal_code              468 non-null    object \n",
      " 7   purchase_history         468 non-null    object \n",
      " 8   monthly_payment          468 non-null    float64\n",
      " 9   contract_length          468 non-null    int64  \n",
      " 10  data_usage               468 non-null    float64\n",
      " 11  customer_service_rating  468 non-null    int64  \n",
      " 12  Churn                    468 non-null    bool   \n",
      "dtypes: bool(1), float64(2), int64(4), object(6)\n",
      "memory usage: 48.0+ KB\n"
     ]
    }
   ],
   "source": [
    "# handle missing values\n",
    "data.dropna(inplace = True)\n",
    "\n",
    "# checking on data structure\n",
    "data.info()"
   ]
  },
  {
   "cell_type": "code",
   "execution_count": 19,
   "id": "c7dad858-50d4-49d6-8381-3b8b78d76bcc",
   "metadata": {},
   "outputs": [],
   "source": [
    "#dropping columns which are not of importance \n",
    "data = data.drop(['customer_id','first_name','last_name','email','postal_code'], axis = 1)"
   ]
  },
  {
   "cell_type": "code",
   "execution_count": 20,
   "id": "e331e905-0627-4a49-98bb-55cf30b98148",
   "metadata": {},
   "outputs": [],
   "source": [
    "#encoding categorical variable using one-hot coding\n",
    "encoded_data = pd.get_dummies(data[['country','purchase_history','Churn']],drop_first = True).astype(int)\n"
   ]
  },
  {
   "cell_type": "code",
   "execution_count": 21,
   "id": "4ab258c6-5cb0-4e99-910d-df97041c6f7f",
   "metadata": {},
   "outputs": [],
   "source": [
    "#creating separate dta frame for float and int columns\n",
    "int_df = data[['age','monthly_payment','contract_length','data_usage','customer_service_rating']]"
   ]
  },
  {
   "cell_type": "code",
   "execution_count": 22,
   "id": "389b8e5c-abad-4ac5-8933-a7c6c4a4731a",
   "metadata": {},
   "outputs": [],
   "source": [
    "# combining 2 data sets into 1 data frame along columns\n",
    "final_df = pd.concat([int_df, encoded_data],axis = 1)       "
   ]
  },
  {
   "cell_type": "code",
   "execution_count": 23,
   "id": "fc533f61-7446-431d-8d9b-5585f27133a9",
   "metadata": {},
   "outputs": [
    {
     "name": "stdout",
     "output_type": "stream",
     "text": [
      "<class 'pandas.core.frame.DataFrame'>\n",
      "Index: 468 entries, 0 to 999\n",
      "Data columns (total 50 columns):\n",
      " #   Column                           Non-Null Count  Dtype  \n",
      "---  ------                           --------------  -----  \n",
      " 0   age                              468 non-null    int64  \n",
      " 1   monthly_payment                  468 non-null    float64\n",
      " 2   contract_length                  468 non-null    int64  \n",
      " 3   data_usage                       468 non-null    float64\n",
      " 4   customer_service_rating          468 non-null    int64  \n",
      " 5   Churn                            468 non-null    int32  \n",
      " 6   country_Argentina                468 non-null    int32  \n",
      " 7   country_Australia                468 non-null    int32  \n",
      " 8   country_Austria                  468 non-null    int32  \n",
      " 9   country_Bangladesh               468 non-null    int32  \n",
      " 10  country_Brazil                   468 non-null    int32  \n",
      " 11  country_Bulgaria                 468 non-null    int32  \n",
      " 12  country_Canada                   468 non-null    int32  \n",
      " 13  country_Colombia                 468 non-null    int32  \n",
      " 14  country_Croatia                  468 non-null    int32  \n",
      " 15  country_Czech Republic           468 non-null    int32  \n",
      " 16  country_Denmark                  468 non-null    int32  \n",
      " 17  country_Dominican Republic       468 non-null    int32  \n",
      " 18  country_Finland                  468 non-null    int32  \n",
      " 19  country_France                   468 non-null    int32  \n",
      " 20  country_Germany                  468 non-null    int32  \n",
      " 21  country_Guadeloupe               468 non-null    int32  \n",
      " 22  country_Guatemala                468 non-null    int32  \n",
      " 23  country_Hungary                  468 non-null    int32  \n",
      " 24  country_Ireland                  468 non-null    int32  \n",
      " 25  country_Italy                    468 non-null    int32  \n",
      " 26  country_Japan                    468 non-null    int32  \n",
      " 27  country_Lithuania                468 non-null    int32  \n",
      " 28  country_Luxembourg               468 non-null    int32  \n",
      " 29  country_Macedonia                468 non-null    int32  \n",
      " 30  country_Malaysia                 468 non-null    int32  \n",
      " 31  country_Marshall Islands         468 non-null    int32  \n",
      " 32  country_Mexico                   468 non-null    int32  \n",
      " 33  country_Netherlands              468 non-null    int32  \n",
      " 34  country_New Zealand              468 non-null    int32  \n",
      " 35  country_Norway                   468 non-null    int32  \n",
      " 36  country_Pakistan                 468 non-null    int32  \n",
      " 37  country_Philippines              468 non-null    int32  \n",
      " 38  country_Poland                   468 non-null    int32  \n",
      " 39  country_Portugal                 468 non-null    int32  \n",
      " 40  country_Puerto Rico              468 non-null    int32  \n",
      " 41  country_Russia                   468 non-null    int32  \n",
      " 42  country_Slovenia                 468 non-null    int32  \n",
      " 43  country_South Africa             468 non-null    int32  \n",
      " 44  country_Sri Lanka                468 non-null    int32  \n",
      " 45  country_Sweden                   468 non-null    int32  \n",
      " 46  country_Thailand                 468 non-null    int32  \n",
      " 47  country_United States            468 non-null    int32  \n",
      " 48  purchase_history_Samsung Galaxy  468 non-null    int32  \n",
      " 49  purchase_history_iPhone          468 non-null    int32  \n",
      "dtypes: float64(2), int32(45), int64(3)\n",
      "memory usage: 104.2 KB\n"
     ]
    }
   ],
   "source": [
    "final_df.head()\n",
    "final_df.info()"
   ]
  },
  {
   "cell_type": "code",
   "execution_count": 24,
   "id": "9aa4362a-3a8f-434b-bae6-bf07c04b72d8",
   "metadata": {},
   "outputs": [],
   "source": [
    "# Assuming 'Churn' is the target variable\n",
    "X = final_df.drop('Churn', axis=1)\n",
    "y = final_df['Churn']"
   ]
  },
  {
   "cell_type": "code",
   "execution_count": 25,
   "id": "fcef9079-729f-4873-b559-61e9781ca8df",
   "metadata": {},
   "outputs": [],
   "source": [
    "# Split the data into training and test sets\n",
    "X_train, X_test, y_train, y_test = train_test_split(X, y, test_size=0.2, random_state=42)"
   ]
  },
  {
   "cell_type": "code",
   "execution_count": 26,
   "id": "7e88a0bb-604b-4fc8-8078-f571da264cc4",
   "metadata": {},
   "outputs": [
    {
     "data": {
      "text/html": [
       "<style>#sk-container-id-2 {color: black;}#sk-container-id-2 pre{padding: 0;}#sk-container-id-2 div.sk-toggleable {background-color: white;}#sk-container-id-2 label.sk-toggleable__label {cursor: pointer;display: block;width: 100%;margin-bottom: 0;padding: 0.3em;box-sizing: border-box;text-align: center;}#sk-container-id-2 label.sk-toggleable__label-arrow:before {content: \"▸\";float: left;margin-right: 0.25em;color: #696969;}#sk-container-id-2 label.sk-toggleable__label-arrow:hover:before {color: black;}#sk-container-id-2 div.sk-estimator:hover label.sk-toggleable__label-arrow:before {color: black;}#sk-container-id-2 div.sk-toggleable__content {max-height: 0;max-width: 0;overflow: hidden;text-align: left;background-color: #f0f8ff;}#sk-container-id-2 div.sk-toggleable__content pre {margin: 0.2em;color: black;border-radius: 0.25em;background-color: #f0f8ff;}#sk-container-id-2 input.sk-toggleable__control:checked~div.sk-toggleable__content {max-height: 200px;max-width: 100%;overflow: auto;}#sk-container-id-2 input.sk-toggleable__control:checked~label.sk-toggleable__label-arrow:before {content: \"▾\";}#sk-container-id-2 div.sk-estimator input.sk-toggleable__control:checked~label.sk-toggleable__label {background-color: #d4ebff;}#sk-container-id-2 div.sk-label input.sk-toggleable__control:checked~label.sk-toggleable__label {background-color: #d4ebff;}#sk-container-id-2 input.sk-hidden--visually {border: 0;clip: rect(1px 1px 1px 1px);clip: rect(1px, 1px, 1px, 1px);height: 1px;margin: -1px;overflow: hidden;padding: 0;position: absolute;width: 1px;}#sk-container-id-2 div.sk-estimator {font-family: monospace;background-color: #f0f8ff;border: 1px dotted black;border-radius: 0.25em;box-sizing: border-box;margin-bottom: 0.5em;}#sk-container-id-2 div.sk-estimator:hover {background-color: #d4ebff;}#sk-container-id-2 div.sk-parallel-item::after {content: \"\";width: 100%;border-bottom: 1px solid gray;flex-grow: 1;}#sk-container-id-2 div.sk-label:hover label.sk-toggleable__label {background-color: #d4ebff;}#sk-container-id-2 div.sk-serial::before {content: \"\";position: absolute;border-left: 1px solid gray;box-sizing: border-box;top: 0;bottom: 0;left: 50%;z-index: 0;}#sk-container-id-2 div.sk-serial {display: flex;flex-direction: column;align-items: center;background-color: white;padding-right: 0.2em;padding-left: 0.2em;position: relative;}#sk-container-id-2 div.sk-item {position: relative;z-index: 1;}#sk-container-id-2 div.sk-parallel {display: flex;align-items: stretch;justify-content: center;background-color: white;position: relative;}#sk-container-id-2 div.sk-item::before, #sk-container-id-2 div.sk-parallel-item::before {content: \"\";position: absolute;border-left: 1px solid gray;box-sizing: border-box;top: 0;bottom: 0;left: 50%;z-index: -1;}#sk-container-id-2 div.sk-parallel-item {display: flex;flex-direction: column;z-index: 1;position: relative;background-color: white;}#sk-container-id-2 div.sk-parallel-item:first-child::after {align-self: flex-end;width: 50%;}#sk-container-id-2 div.sk-parallel-item:last-child::after {align-self: flex-start;width: 50%;}#sk-container-id-2 div.sk-parallel-item:only-child::after {width: 0;}#sk-container-id-2 div.sk-dashed-wrapped {border: 1px dashed gray;margin: 0 0.4em 0.5em 0.4em;box-sizing: border-box;padding-bottom: 0.4em;background-color: white;}#sk-container-id-2 div.sk-label label {font-family: monospace;font-weight: bold;display: inline-block;line-height: 1.2em;}#sk-container-id-2 div.sk-label-container {text-align: center;}#sk-container-id-2 div.sk-container {/* jupyter's `normalize.less` sets `[hidden] { display: none; }` but bootstrap.min.css set `[hidden] { display: none !important; }` so we also need the `!important` here to be able to override the default hidden behavior on the sphinx rendered scikit-learn.org. See: https://github.com/scikit-learn/scikit-learn/issues/21755 */display: inline-block !important;position: relative;}#sk-container-id-2 div.sk-text-repr-fallback {display: none;}</style><div id=\"sk-container-id-2\" class=\"sk-top-container\"><div class=\"sk-text-repr-fallback\"><pre>RandomForestClassifier(random_state=42)</pre><b>In a Jupyter environment, please rerun this cell to show the HTML representation or trust the notebook. <br />On GitHub, the HTML representation is unable to render, please try loading this page with nbviewer.org.</b></div><div class=\"sk-container\" hidden><div class=\"sk-item\"><div class=\"sk-estimator sk-toggleable\"><input class=\"sk-toggleable__control sk-hidden--visually\" id=\"sk-estimator-id-2\" type=\"checkbox\" checked><label for=\"sk-estimator-id-2\" class=\"sk-toggleable__label sk-toggleable__label-arrow\">RandomForestClassifier</label><div class=\"sk-toggleable__content\"><pre>RandomForestClassifier(random_state=42)</pre></div></div></div></div></div>"
      ],
      "text/plain": [
       "RandomForestClassifier(random_state=42)"
      ]
     },
     "execution_count": 26,
     "metadata": {},
     "output_type": "execute_result"
    }
   ],
   "source": [
    "# Model selection and training\n",
    "clf = RandomForestClassifier(n_estimators=100, random_state=42)\n",
    "clf.fit(X_train, y_train)"
   ]
  },
  {
   "cell_type": "code",
   "execution_count": null,
   "id": "69379c49",
   "metadata": {},
   "outputs": [],
   "source": []
  },
  {
   "cell_type": "code",
   "execution_count": 27,
   "id": "74ef3d26-a96f-4f43-aa1a-6abe37bcd98c",
   "metadata": {},
   "outputs": [
    {
     "name": "stdout",
     "output_type": "stream",
     "text": [
      "Accuracy: 0.4787234042553192\n",
      "Precision: 0.4406779661016949\n",
      "Recall: 0.6190476190476191\n",
      "F1 Score: 0.5148514851485149\n",
      "ROC AUC Score: 0.4697802197802198\n"
     ]
    }
   ],
   "source": [
    "# Model evaluation\n",
    "y_pred = clf.predict(X_test)\n",
    "\n",
    "accuracy = accuracy_score(y_test, y_pred)\n",
    "precision = precision_score(y_test, y_pred)\n",
    "recall = recall_score(y_test, y_pred)\n",
    "f1 = f1_score(y_test, y_pred)\n",
    "roc_auc = roc_auc_score(y_test, clf.predict_proba(X_test)[:, 1])\n",
    "\n",
    "print(\"Accuracy:\", accuracy)\n",
    "print(\"Precision:\", precision)\n",
    "print(\"Recall:\", recall)\n",
    "print(\"F1 Score:\", f1)\n",
    "print(\"ROC AUC Score:\", roc_auc)"
   ]
  },
  {
   "cell_type": "code",
   "execution_count": 28,
   "id": "578423e7-d700-45e0-8c0e-40efbf554a51",
   "metadata": {},
   "outputs": [
    {
     "data": {
      "text/plain": [
       "['churn_model.pkl']"
      ]
     },
     "execution_count": 28,
     "metadata": {},
     "output_type": "execute_result"
    }
   ],
   "source": [
    "# Deployment: Save the trained model for future predictions\n",
    "import joblib\n",
    "joblib.dump(clf, 'churn_model.pkl')\n"
   ]
  }
 ],
 "metadata": {
  "kernelspec": {
   "display_name": "Python 3 (ipykernel)",
   "language": "python",
   "name": "python3"
  },
  "language_info": {
   "codemirror_mode": {
    "name": "ipython",
    "version": 3
   },
   "file_extension": ".py",
   "mimetype": "text/x-python",
   "name": "python",
   "nbconvert_exporter": "python",
   "pygments_lexer": "ipython3",
   "version": "3.12.0"
  }
 },
 "nbformat": 4,
 "nbformat_minor": 5
}
